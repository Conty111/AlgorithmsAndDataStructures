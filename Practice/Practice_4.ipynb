{
 "cells": [
  {
   "cell_type": "markdown",
   "metadata": {},
   "source": [
    "# Задача 0\n",
    "\n",
    "Имеется калькулятор, который выполняет три операции:\n",
    "\n",
    "1. Прибавить к числу X единицу.\n",
    "2. Умножить число X на 2.\n",
    "3. Умножить число X на 3.\n",
    "\n",
    "Определите, какое наименьшее число операций необходимо для того, чтобы получить из числа 1 заданное число N.\n",
    "\n",
    "**Примеры**\n",
    "\n",
    "входные данные | выходные данные\n",
    "---|---\n",
    "1 | 0\n",
    "5 | 3\n",
    "32718 | 17"
   ]
  },
  {
   "cell_type": "code",
   "execution_count": 4,
   "metadata": {},
   "outputs": [],
   "source": [
    "'''Your code here'''\n",
    "def cal(n: int) -> int:\n",
    "    if n < 3:\n",
    "        return n\n",
    "    dp = [0] * (n+1)\n",
    "    dp[2] = 1\n",
    "    dp[3] = 1\n",
    "    for i in range(4, n+1):\n",
    "        op = [dp[i-1]]\n",
    "        if i % 3 == 0:\n",
    "            op.append(dp[i//3])\n",
    "        if i % 2 == 0:\n",
    "            op.append(dp[i//2])\n",
    "        dp[i] = min(op) + 1\n",
    "    return dp[n]"
   ]
  },
  {
   "cell_type": "code",
   "execution_count": 6,
   "metadata": {},
   "outputs": [
    {
     "data": {
      "text/plain": [
       "17"
      ]
     },
     "execution_count": 6,
     "metadata": {},
     "output_type": "execute_result"
    }
   ],
   "source": [
    "cal(32718)"
   ]
  },
  {
   "cell_type": "markdown",
   "metadata": {},
   "source": [
    "# Задача 1\n",
    "\n",
    "Напишите функцию возврщающую n-ное число Фибоначчи."
   ]
  },
  {
   "cell_type": "markdown",
   "metadata": {},
   "source": [
    "$$\n",
    "F_0=0,~F_1=1,~F_n=F_{n-1}+F_{n-2}\n",
    "$$"
   ]
  },
  {
   "cell_type": "code",
   "execution_count": 10,
   "metadata": {},
   "outputs": [],
   "source": [
    "'''Your code here'''\n",
    "def f(n: int) -> int:\n",
    "    if n < 2:\n",
    "        return n\n",
    "    a = 0\n",
    "    b = 1\n",
    "    c = 1\n",
    "    for i in range(3, n):\n",
    "        a, b = b, c\n",
    "        c = a + b\n",
    "    return c"
   ]
  },
  {
   "cell_type": "code",
   "execution_count": 11,
   "metadata": {},
   "outputs": [
    {
     "data": {
      "text/plain": [
       "377"
      ]
     },
     "execution_count": 11,
     "metadata": {},
     "output_type": "execute_result"
    }
   ],
   "source": [
    "f(15)"
   ]
  },
  {
   "cell_type": "markdown",
   "metadata": {},
   "source": [
    "# Задача 2\n",
    "\n",
    "Алгоритм вычисления значения функции $F(n)$, где $n$ – натуральное число, задан следующими соотношениями:\n",
    "$$\n",
    "F(n)=\\begin{cases}\n",
    "    n & \\text{если }n≥2025, \\\\\n",
    "    F(n+1)−F(n+2)+7 & \\text{если }n<2025.\n",
    "\\end{cases}\n",
    "$$\n",
    "Чему равно значение выражения $F(15)−F(24)$?"
   ]
  },
  {
   "cell_type": "code",
   "execution_count": 24,
   "metadata": {},
   "outputs": [],
   "source": [
    "'''Your code here'''\n",
    "def Func(n: int) -> int:\n",
    "    if n > 2024:\n",
    "        return n\n",
    "    dp = [0] * 2026\n",
    "    dp[2025] = 2025\n",
    "    dp[2024] = 6\n",
    "    for i in range(2023, n-1, -1):\n",
    "        dp[i] = dp[i+1] - dp[i+2] + 7\n",
    "    return dp[n]"
   ]
  },
  {
   "cell_type": "code",
   "execution_count": 25,
   "metadata": {},
   "outputs": [
    {
     "data": {
      "text/plain": [
       "4036"
      ]
     },
     "execution_count": 25,
     "metadata": {},
     "output_type": "execute_result"
    }
   ],
   "source": [
    "Func(15)-Func(24)"
   ]
  },
  {
   "cell_type": "markdown",
   "metadata": {},
   "source": [
    "# Задача 3\n",
    "\n",
    "Имеется калькулятор, который выполняет три операции:\n",
    "\n",
    "1. Прибавить к числу X единицу.\n",
    "2. Умножить число X на 2.\n",
    "3. Умножить число X на 3.\n",
    "\n",
    "Определите кратчайшую последовательность операций, необходимую для получения из числа 1 заданное число N.\n",
    "\n",
    "Входные данные\n",
    "Программа получает на вход одно число N, не превосходящее $10^6$.\n",
    "\n",
    "Выходные данные\n",
    "Выведите строку, состоящую из цифр \"1\", \"2\" или \"3\", обозначающих одну из трех указанных операций, которая получает из числа 1 число N за минимальное число операций. Если возможных минимальных решений несколько, выведите любое из них.\n",
    "\n",
    "**Примеры**\n",
    "\n",
    "входные данные | выходные данные\n",
    "---|---\n",
    "1 | \n",
    "5 | 121\n",
    "562340 | 3333312222122213312"
   ]
  },
  {
   "cell_type": "code",
   "execution_count": 4,
   "metadata": {},
   "outputs": [
    {
     "data": {
      "text/plain": [
       "'Your code here'"
      ]
     },
     "execution_count": 4,
     "metadata": {},
     "output_type": "execute_result"
    }
   ],
   "source": [
    "'''Your code here'''\n",
    "def F(n):\n",
    "    d = {1: [0, \"\"], 2: [1, \"1\"]}\n",
    "    for i in range(3, n+1):\n",
    "        op = [[d[i-1][0], d[i-1][1]+\"1\"]]\n",
    "        if i % 2 == 0:\n",
    "            op.append([d[i//2][0], d[i//2][1]+\"2\"])\n",
    "        if i % 3 == 0:\n",
    "            op.append([d[i//3][0], d[i//3][1]+\"3\"])\n",
    "        res = op[0]\n",
    "        for j in op[1:]:\n",
    "            if j[0] < res[0]:\n",
    "                res = j\n",
    "        res[0] += 1\n",
    "        d[i] = res\n",
    "\n",
    "    return d[n]\n",
    "\n",
    "print(F(562340))"
   ]
  },
  {
   "cell_type": "markdown",
   "metadata": {},
   "source": [
    "# Задача 4\n",
    "\n",
    "Робот стоит в левом нижнем углу прямоугольного поля, в каждой клетке которого записано целое положительное число. За один ход робот может переместиться на одну клетку вправо или на одну клетку вверх.\n",
    "\n",
    "Расход энергии на запуск робота равен числу, записанному в стартовой клетке. В дальнейшем расход энергии на шаг из одной клетки в другую равен абсолютной величине разности чисел, записанных в этих клетках.\n",
    "Определите минимальный и максимальный расход энергии при переходе робота в правую верхнюю клетку поля. В ответе запишите два числа: сначала минимальный расход энергии, затем – максимальный.\n",
    "Исходные данные записаны в файле 3.txt. "
   ]
  },
  {
   "cell_type": "code",
   "execution_count": 40,
   "metadata": {},
   "outputs": [],
   "source": [
    "'''Your code here'''\n",
    "def robot(filename: str) -> (int, int):\n",
    "    with open(filename, 'r+') as file:\n",
    "        pole = [list(map(int, i.split())) for i in file.readlines()]\n",
    "    n = len(pole)\n",
    "    m = len(pole[0])\n",
    "    mx = [[[0, 0] for _ in range(m)] for _ in range(n)]\n",
    "    mx[-1][0] = [pole[-1][0], pole[-1][0]]\n",
    "    for i in range(n-1, -1, -1):\n",
    "        for j in range(m):\n",
    "            if i == n-1 and j == 0:\n",
    "                continue\n",
    "            if j == 0:\n",
    "                e = abs(pole[i][j]-pole[i-1][j])\n",
    "                mx[i][j][0] = mx[i-1][j][0] + e\n",
    "                mx[i][j][1] = mx[i-1][j][1] + e\n",
    "            elif i == n-1:\n",
    "                e = abs(pole[i][j]-pole[i][j-1])\n",
    "                mx[i][j][0] = mx[i][j-1][0] + pole[i][j] + e\n",
    "                mx[i][j][1] = mx[i][j-1][1] + pole[i][j] + e\n",
    "            else:\n",
    "                e1 = abs(pole[i][j]-pole[i-1][j])\n",
    "                e2 = abs(pole[i][j]-pole[i][j-1])\n",
    "                mx[i][j][0] = min(mx[i][j-1][0]+e2, mx[i-1][j][0]+e1)\n",
    "                mx[i][j][1] = max(mx[i][j-1][1]+e2, mx[i-1][j][1]+e1)\n",
    "    return mx[0][m-1]"
   ]
  },
  {
   "cell_type": "code",
   "execution_count": 41,
   "metadata": {},
   "outputs": [
    {
     "data": {
      "text/plain": [
       "[501, 1275]"
      ]
     },
     "execution_count": 41,
     "metadata": {},
     "output_type": "execute_result"
    }
   ],
   "source": [
    "robot(R'files_practice_4\\3.txt')"
   ]
  },
  {
   "cell_type": "markdown",
   "metadata": {},
   "source": [
    "# Задача 5\n",
    "\n",
    "Даны две последовательности, требуется найти длину их наибольшей общей подпоследовательности."
   ]
  },
  {
   "cell_type": "code",
   "execution_count": 5,
   "metadata": {},
   "outputs": [
    {
     "name": "stdout",
     "output_type": "stream",
     "text": [
      "3\n"
     ]
    }
   ],
   "source": [
    "'''Your code here'''\n",
    "def F(arr1: list, arr2: list):\n",
    "    matrix = [[0]*len(arr2) for _ in range(len(arr1))]\n",
    "    for i in range(1, len(matrix)):\n",
    "        for j in range(len(matrix[i])):\n",
    "            res: int\n",
    "            if arr1[i] == arr2[j]:\n",
    "                if j == 0:\n",
    "                    res = 1\n",
    "                else:\n",
    "                    res = matrix[i-1][j-1]+1\n",
    "            else:\n",
    "                if j == 0:\n",
    "                    tmp1 = 0\n",
    "                else:\n",
    "                    tmp1 = matrix[i][j-1]\n",
    "                tmp2 = matrix[i-1][j]\n",
    "                res = max(tmp1, tmp2)\n",
    "            matrix[i][j] = res\n",
    "    return matrix[-1][-1]\n",
    "\n",
    "print(F([1,2,3,4,5,5], [2,7,3,2,5]))"
   ]
  },
  {
   "cell_type": "markdown",
   "metadata": {},
   "source": [
    "# Задача 6. Расстояние по Левенштейну\n",
    "\n",
    "Дана текстовая строка. С ней можно выполнять следующие операции:\n",
    "\n",
    "1. Заменить один символ строки на другой символ.\n",
    "\n",
    "2. Удалить один произвольный символ.\n",
    "\n",
    "3. Вставить произвольный символ в произвольное место строки.\n",
    "\n",
    "Например, при помощи первой операции из строки \"СОК\" можно получить строку \"СУК\", при помощи второй операции - строку \"ОК\", при помощи третьей операции - строку \"СТОК.\n",
    "\n",
    "Минимальное количество таких операций, при помощи которых можно из одной строки получить другую, называется стоимостью редактирования или расстоянием Левенштейна.\n",
    "\n",
    "Определите расстояние Левенштейна для двух данных строк.\n",
    "\n",
    "**Пример**\n",
    "входные данные | выходные данные\n",
    "---|---\n",
    "ABCDEFGH ACDEXGIH | 3\n",
    " "
   ]
  },
  {
   "cell_type": "code",
   "execution_count": 58,
   "metadata": {},
   "outputs": [
    {
     "name": "stdout",
     "output_type": "stream",
     "text": [
      "1\n"
     ]
    }
   ],
   "source": [
    "def Lev(a, b):\n",
    "    n = len(a)\n",
    "    m = len(b)\n",
    "\n",
    "    lev = [[0] * m for _ in range(n)]\n",
    "\n",
    "    for i in range(n):\n",
    "        for j in range(m):\n",
    "            if a[i] == b[j]:\n",
    "                lev[i][j] = lev[i-1][j-1]\n",
    "            else:\n",
    "                lev[i][j] = min(lev[i][j-1], lev[i-1][j], lev[i-1][j-1]) + 1\n",
    "\n",
    "    return lev[-1][-1]\n",
    "\n",
    "print(Lev(\"ACDEXGIH1\", \"ACDEXGIH\"))"
   ]
  },
  {
   "cell_type": "markdown",
   "metadata": {},
   "source": [
    "# Задача 7\n",
    "\n",
    "Дана последовательность, требуется найти длину её наибольшей возрастающей подпоследовательности. Подпоследовательностью последовательности называется некоторый набор её элементов, не обязательно стоящих подряд.\n",
    "\n",
    "**Пример**\n",
    "входные данные | выходные данные\n",
    "---|---\n",
    "3 29 5 5 28 6 | 3"
   ]
  },
  {
   "cell_type": "code",
   "execution_count": 8,
   "metadata": {},
   "outputs": [
    {
     "data": {
      "text/plain": [
       "'Your code here'"
      ]
     },
     "execution_count": 8,
     "metadata": {},
     "output_type": "execute_result"
    }
   ],
   "source": [
    "'''Your code here'''\n"
   ]
  },
  {
   "cell_type": "markdown",
   "metadata": {},
   "source": [
    "# Задача 8\n",
    "\n",
    "Первая строка входа содержит целые числа $1≤W≤10$ и $1≤n≤300$ — вместимость рюкзака и число золотых слитков. Следующая строка содержит $n$ целых чисел $0≤w_1,…,w_n≤10^5$, задающих веса слитков. \n",
    "\n",
    "Найдите максимальный вес золота, который можно унести в рюкзаке.\n",
    "\n",
    "**Пример**\n",
    "входные данные | выходные данные\n",
    "---|---\n",
    "10 3\n",
    "1 4 8 | 9"
   ]
  },
  {
   "cell_type": "code",
   "execution_count": 42,
   "metadata": {},
   "outputs": [
    {
     "data": {
      "text/plain": [
       "9"
      ]
     },
     "execution_count": 42,
     "metadata": {},
     "output_type": "execute_result"
    }
   ],
   "source": [
    "'''Your code here'''\n",
    "def backpack(W, n, weights, costs) -> int:\n",
    "    matrix = [[0] * W for _ in range(n+1)]\n",
    "    for i in range(1, n+1):\n",
    "        for j in range(1, W):\n",
    "            current_weight = weights[i-1]\n",
    "            cost_without = matrix[i-1][j]\n",
    "            cost_with = 0\n",
    "            if j - current_weight > -1:\n",
    "                cost_with = costs[i-1] + matrix[i-1][j-current_weight]\n",
    "            matrix[i][j] = max(cost_with, cost_without)\n",
    "    return matrix[-1][-1]\n",
    "\n",
    "backpack(10, 3, [1, 4, 8], [1, 4, 8])\n"
   ]
  },
  {
   "cell_type": "code",
   "execution_count": null,
   "metadata": {},
   "outputs": [],
   "source": [
    "def unbounded_backpack(W, n, weights, costs) -> int:\n",
    "    matrix = [[0] * W for _ in range(n+1)]\n",
    "    for i in range(1, n+1):\n",
    "        for j in range(1, W):\n",
    "            current_weight = weights[i-1]\n",
    "            cost_without = matrix[i-1][j]\n",
    "            l = j // current_weight\n",
    "            cost_with = costs[i-1]*l + matrix[i-1][j-l*current_weight]\n",
    "            matrix[i][j] = max(cost_with, cost_without)\n",
    "    return matrix[-1][-1]"
   ]
  }
 ],
 "metadata": {
  "kernelspec": {
   "display_name": "Python 3",
   "language": "python",
   "name": "python3"
  },
  "language_info": {
   "codemirror_mode": {
    "name": "ipython",
    "version": 3
   },
   "file_extension": ".py",
   "mimetype": "text/x-python",
   "name": "python",
   "nbconvert_exporter": "python",
   "pygments_lexer": "ipython3",
   "version": "3.12.0"
  },
  "orig_nbformat": 4
 },
 "nbformat": 4,
 "nbformat_minor": 2
}
