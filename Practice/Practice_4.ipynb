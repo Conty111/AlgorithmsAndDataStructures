{
 "cells": [
  {
   "cell_type": "markdown",
   "metadata": {},
   "source": [
    "# Задача 0\n",
    "\n",
    "Имеется калькулятор, который выполняет три операции:\n",
    "\n",
    "1. Прибавить к числу X единицу.\n",
    "2. Умножить число X на 2.\n",
    "3. Умножить число X на 3.\n",
    "\n",
    "Определите, какое наименьшее число операций необходимо для того, чтобы получить из числа 1 заданное число N.\n",
    "\n",
    "**Примеры**\n",
    "\n",
    "входные данные | выходные данные\n",
    "---|---\n",
    "1 | 0\n",
    "5 | 3\n",
    "32718 | 17"
   ]
  },
  {
   "cell_type": "code",
   "execution_count": 1,
   "metadata": {},
   "outputs": [
    {
     "data": {
      "text/plain": [
       "'Your code here'"
      ]
     },
     "execution_count": 1,
     "metadata": {},
     "output_type": "execute_result"
    }
   ],
   "source": [
    "'''Your code here'''"
   ]
  },
  {
   "cell_type": "markdown",
   "metadata": {},
   "source": [
    "# Задача 1\n",
    "\n",
    "Напишите функцию возврщающую n-ное число Фибоначчи."
   ]
  },
  {
   "cell_type": "markdown",
   "metadata": {},
   "source": [
    "$$\n",
    "F_0=0,~F_1=1,~F_n=F_{n-1}+F_{n-2}\n",
    "$$"
   ]
  },
  {
   "cell_type": "code",
   "execution_count": 2,
   "metadata": {},
   "outputs": [
    {
     "data": {
      "text/plain": [
       "'Your code here'"
      ]
     },
     "execution_count": 2,
     "metadata": {},
     "output_type": "execute_result"
    }
   ],
   "source": [
    "'''Your code here'''"
   ]
  },
  {
   "cell_type": "markdown",
   "metadata": {},
   "source": [
    "# Задача 2\n",
    "\n",
    "Алгоритм вычисления значения функции $F(n)$, где $n$ – натуральное число, задан следующими соотношениями:\n",
    "$$\n",
    "F(n)=\\begin{cases}\n",
    "    n & \\text{если }n≥2025, \\\\\n",
    "    F(n+1)−F(n+2)+7 & \\text{если }n<2025.\n",
    "\\end{cases}\n",
    "$$\n",
    "Чему равно значение выражения $F(15)−F(24)$?"
   ]
  },
  {
   "cell_type": "code",
   "execution_count": 3,
   "metadata": {},
   "outputs": [
    {
     "data": {
      "text/plain": [
       "'Your code here'"
      ]
     },
     "execution_count": 3,
     "metadata": {},
     "output_type": "execute_result"
    }
   ],
   "source": [
    "'''Your code here'''"
   ]
  },
  {
   "cell_type": "markdown",
   "metadata": {},
   "source": [
    "# Задача 3\n",
    "\n",
    "Имеется калькулятор, который выполняет три операции:\n",
    "\n",
    "1. Прибавить к числу X единицу.\n",
    "2. Умножить число X на 2.\n",
    "3. Умножить число X на 3.\n",
    "\n",
    "Определите кратчайшую последовательность операций, необходимую для получения из числа 1 заданное число N.\n",
    "\n",
    "Входные данные\n",
    "Программа получает на вход одно число N, не превосходящее $10^6$.\n",
    "\n",
    "Выходные данные\n",
    "Выведите строку, состоящую из цифр \"1\", \"2\" или \"3\", обозначающих одну из трех указанных операций, которая получает из числа 1 число N за минимальное число операций. Если возможных минимальных решений несколько, выведите любое из них.\n",
    "\n",
    "**Примеры**\n",
    "\n",
    "входные данные | выходные данные\n",
    "---|---\n",
    "1 | \n",
    "5 | 121\n",
    "562340 | 3333312222122213312"
   ]
  },
  {
   "cell_type": "code",
   "execution_count": 4,
   "metadata": {},
   "outputs": [
    {
     "data": {
      "text/plain": [
       "'Your code here'"
      ]
     },
     "execution_count": 4,
     "metadata": {},
     "output_type": "execute_result"
    }
   ],
   "source": [
    "'''Your code here'''\n",
    "def F(n):\n",
    "    d = {1: [0, \"\"], 2: [1, \"1\"]}\n",
    "    for i in range(3, n+1):\n",
    "        op = [[d[i-1][0], d[i-1][1]+\"1\"]]\n",
    "        if i % 2 == 0:\n",
    "            op.append([d[i//2][0], d[i//2][1]+\"2\"])\n",
    "        if i % 3 == 0:\n",
    "            op.append([d[i//3][0], d[i//3][1]+\"3\"])\n",
    "        res = op[0]\n",
    "        for j in op[1:]:\n",
    "            if j[0] < res[0]:\n",
    "                res = j\n",
    "        res[0] += 1\n",
    "        d[i] = res\n",
    "\n",
    "    return d[n]\n",
    "\n",
    "print(F(562340))"
   ]
  },
  {
   "cell_type": "markdown",
   "metadata": {},
   "source": [
    "# Задача 4\n",
    "\n",
    "Робот стоит в левом нижнем углу прямоугольного поля, в каждой клетке которого записано целое положительное число. За один ход робот может переместиться на одну клетку вправо или на одну клетку вверх.\n",
    "\n",
    "Расход энергии на запуск робота равен числу, записанному в стартовой клетке. В дальнейшем расход энергии на шаг из одной клетки в другую равен абсолютной величине разности чисел, записанных в этих клетках.\n",
    "Определите минимальный и максимальный расход энергии при переходе робота в правую верхнюю клетку поля. В ответе запишите два числа: сначала минимальный расход энергии, затем – максимальный.\n",
    "Исходные данные записаны в файле 3.txt. "
   ]
  },
  {
   "cell_type": "code",
   "execution_count": 5,
   "metadata": {},
   "outputs": [
    {
     "data": {
      "text/plain": [
       "'Your code here'"
      ]
     },
     "execution_count": 5,
     "metadata": {},
     "output_type": "execute_result"
    }
   ],
   "source": [
    "'''Your code here'''"
   ]
  },
  {
   "cell_type": "markdown",
   "metadata": {},
   "source": [
    "# Задача 5\n",
    "\n",
    "Даны две последовательности, требуется найти длину их наибольшей общей подпоследовательности."
   ]
  },
  {
   "cell_type": "code",
   "execution_count": 5,
   "metadata": {},
   "outputs": [
    {
     "name": "stdout",
     "output_type": "stream",
     "text": [
      "3\n"
     ]
    }
   ],
   "source": [
    "'''Your code here'''\n",
    "def F(arr1: list, arr2: list):\n",
    "    matrix = [[0]*len(arr2) for _ in range(len(arr1))]\n",
    "    for i in range(1, len(matrix)):\n",
    "        for j in range(len(matrix[i])):\n",
    "            res: int\n",
    "            if arr1[i] == arr2[j]:\n",
    "                if j == 0:\n",
    "                    res = 1\n",
    "                else:\n",
    "                    res = matrix[i-1][j-1]+1\n",
    "            else:\n",
    "                if j == 0:\n",
    "                    tmp1 = 0\n",
    "                else:\n",
    "                    tmp1 = matrix[i][j-1]\n",
    "                tmp2 = matrix[i-1][j]\n",
    "                res = max(tmp1, tmp2)\n",
    "            matrix[i][j] = res\n",
    "    return matrix[-1][-1]\n",
    "\n",
    "print(F([1,2,3,4,5,5], [2,7,3,2,5]))"
   ]
  },
  {
   "cell_type": "markdown",
   "metadata": {},
   "source": [
    "# Задача 6. Расстояние по Левенштейну\n",
    "\n",
    "Дана текстовая строка. С ней можно выполнять следующие операции:\n",
    "\n",
    "1. Заменить один символ строки на другой символ.\n",
    "\n",
    "2. Удалить один произвольный символ.\n",
    "\n",
    "3. Вставить произвольный символ в произвольное место строки.\n",
    "\n",
    "Например, при помощи первой операции из строки \"СОК\" можно получить строку \"СУК\", при помощи второй операции - строку \"ОК\", при помощи третьей операции - строку \"СТОК.\n",
    "\n",
    "Минимальное количество таких операций, при помощи которых можно из одной строки получить другую, называется стоимостью редактирования или расстоянием Левенштейна.\n",
    "\n",
    "Определите расстояние Левенштейна для двух данных строк.\n",
    "\n",
    "**Пример**\n",
    "входные данные | выходные данные\n",
    "---|---\n",
    "ABCDEFGH ACDEXGIH | 3\n",
    " "
   ]
  },
  {
   "cell_type": "code",
   "execution_count": 58,
   "metadata": {},
   "outputs": [
    {
     "name": "stdout",
     "output_type": "stream",
     "text": [
      "1\n"
     ]
    }
   ],
   "source": [
    "def Lev(a, b):\n",
    "    n = len(a)\n",
    "    m = len(b)\n",
    "\n",
    "    lev = [[0] * m for _ in range(n)]\n",
    "\n",
    "    for i in range(n):\n",
    "        for j in range(m):\n",
    "            if a[i] == b[j]:\n",
    "                lev[i][j] = lev[i-1][j-1]\n",
    "            else:\n",
    "                lev[i][j] = min(lev[i][j-1], lev[i-1][j], lev[i-1][j-1]) + 1\n",
    "\n",
    "    return lev[-1][-1]\n",
    "\n",
    "print(Lev(\"ACDEXGIH1\", \"ACDEXGIH\"))"
   ]
  },
  {
   "cell_type": "markdown",
   "metadata": {},
   "source": [
    "# Задача 7\n",
    "\n",
    "Дана последовательность, требуется найти длину её наибольшей возрастающей подпоследовательности. Подпоследовательностью последовательности называется некоторый набор её элементов, не обязательно стоящих подряд.\n",
    "\n",
    "**Пример**\n",
    "входные данные | выходные данные\n",
    "---|---\n",
    "3 29 5 5 28 6 | 3"
   ]
  },
  {
   "cell_type": "code",
   "execution_count": 8,
   "metadata": {},
   "outputs": [
    {
     "data": {
      "text/plain": [
       "'Your code here'"
      ]
     },
     "execution_count": 8,
     "metadata": {},
     "output_type": "execute_result"
    }
   ],
   "source": [
    "'''Your code here'''\n"
   ]
  },
  {
   "cell_type": "markdown",
   "metadata": {},
   "source": [
    "# Задача 8\n",
    "\n",
    "Первая строка входа содержит целые числа $1≤W≤10$ и $1≤n≤300$ — вместимость рюкзака и число золотых слитков. Следующая строка содержит $n$ целых чисел $0≤w_1,…,w_n≤10^5$, задающих веса слитков. \n",
    "\n",
    "Найдите максимальный вес золота, который можно унести в рюкзаке.\n",
    "\n",
    "**Пример**\n",
    "входные данные | выходные данные\n",
    "---|---\n",
    "10 3\n",
    "1 4 8 | 9"
   ]
  },
  {
   "cell_type": "code",
   "execution_count": 1,
   "metadata": {},
   "outputs": [
    {
     "ename": "KeyboardInterrupt",
     "evalue": "Interrupted by user",
     "output_type": "error",
     "traceback": [
      "\u001b[1;31m---------------------------------------------------------------------------\u001b[0m",
      "\u001b[1;31mKeyboardInterrupt\u001b[0m                         Traceback (most recent call last)",
      "\u001b[1;32mc:\\Users\\Dima\\Desktop\\Repositories\\Algorithms_and_Data_Structures_Course\\Practice\\Practice_4.ipynb Cell 19\u001b[0m line \u001b[0;36m2\n\u001b[0;32m      <a href='vscode-notebook-cell:/c%3A/Users/Dima/Desktop/Repositories/Algorithms_and_Data_Structures_Course/Practice/Practice_4.ipynb#X24sZmlsZQ%3D%3D?line=0'>1</a>\u001b[0m \u001b[39m'''Your code here'''\u001b[39;00m\n\u001b[1;32m----> <a href='vscode-notebook-cell:/c%3A/Users/Dima/Desktop/Repositories/Algorithms_and_Data_Structures_Course/Practice/Practice_4.ipynb#X24sZmlsZQ%3D%3D?line=1'>2</a>\u001b[0m W, n \u001b[39m=\u001b[39m \u001b[39mmap\u001b[39m(\u001b[39mint\u001b[39m, \u001b[39minput\u001b[39;49m()\u001b[39m.\u001b[39msplit())\n\u001b[0;32m      <a href='vscode-notebook-cell:/c%3A/Users/Dima/Desktop/Repositories/Algorithms_and_Data_Structures_Course/Practice/Practice_4.ipynb#X24sZmlsZQ%3D%3D?line=2'>3</a>\u001b[0m arr \u001b[39m=\u001b[39m \u001b[39mlist\u001b[39m(\u001b[39mmap\u001b[39m(\u001b[39mint\u001b[39m, \u001b[39minput\u001b[39m()\u001b[39m.\u001b[39msplit()))\n\u001b[0;32m      <a href='vscode-notebook-cell:/c%3A/Users/Dima/Desktop/Repositories/Algorithms_and_Data_Structures_Course/Practice/Practice_4.ipynb#X24sZmlsZQ%3D%3D?line=3'>4</a>\u001b[0m matrix \u001b[39m=\u001b[39m [[\u001b[39m0\u001b[39m] \u001b[39m*\u001b[39m W \u001b[39mfor\u001b[39;00m _ \u001b[39min\u001b[39;00m \u001b[39mrange\u001b[39m(n\u001b[39m+\u001b[39m\u001b[39m1\u001b[39m)]\n",
      "File \u001b[1;32m~\\AppData\\Roaming\\Python\\Python312\\site-packages\\ipykernel\\kernelbase.py:1251\u001b[0m, in \u001b[0;36mKernel.raw_input\u001b[1;34m(self, prompt)\u001b[0m\n\u001b[0;32m   1249\u001b[0m     msg \u001b[39m=\u001b[39m \u001b[39m\"\u001b[39m\u001b[39mraw_input was called, but this frontend does not support input requests.\u001b[39m\u001b[39m\"\u001b[39m\n\u001b[0;32m   1250\u001b[0m     \u001b[39mraise\u001b[39;00m StdinNotImplementedError(msg)\n\u001b[1;32m-> 1251\u001b[0m \u001b[39mreturn\u001b[39;00m \u001b[39mself\u001b[39;49m\u001b[39m.\u001b[39;49m_input_request(\n\u001b[0;32m   1252\u001b[0m     \u001b[39mstr\u001b[39;49m(prompt),\n\u001b[0;32m   1253\u001b[0m     \u001b[39mself\u001b[39;49m\u001b[39m.\u001b[39;49m_parent_ident[\u001b[39m\"\u001b[39;49m\u001b[39mshell\u001b[39;49m\u001b[39m\"\u001b[39;49m],\n\u001b[0;32m   1254\u001b[0m     \u001b[39mself\u001b[39;49m\u001b[39m.\u001b[39;49mget_parent(\u001b[39m\"\u001b[39;49m\u001b[39mshell\u001b[39;49m\u001b[39m\"\u001b[39;49m),\n\u001b[0;32m   1255\u001b[0m     password\u001b[39m=\u001b[39;49m\u001b[39mFalse\u001b[39;49;00m,\n\u001b[0;32m   1256\u001b[0m )\n",
      "File \u001b[1;32m~\\AppData\\Roaming\\Python\\Python312\\site-packages\\ipykernel\\kernelbase.py:1295\u001b[0m, in \u001b[0;36mKernel._input_request\u001b[1;34m(self, prompt, ident, parent, password)\u001b[0m\n\u001b[0;32m   1292\u001b[0m \u001b[39mexcept\u001b[39;00m \u001b[39mKeyboardInterrupt\u001b[39;00m:\n\u001b[0;32m   1293\u001b[0m     \u001b[39m# re-raise KeyboardInterrupt, to truncate traceback\u001b[39;00m\n\u001b[0;32m   1294\u001b[0m     msg \u001b[39m=\u001b[39m \u001b[39m\"\u001b[39m\u001b[39mInterrupted by user\u001b[39m\u001b[39m\"\u001b[39m\n\u001b[1;32m-> 1295\u001b[0m     \u001b[39mraise\u001b[39;00m \u001b[39mKeyboardInterrupt\u001b[39;00m(msg) \u001b[39mfrom\u001b[39;00m \u001b[39mNone\u001b[39;00m\n\u001b[0;32m   1296\u001b[0m \u001b[39mexcept\u001b[39;00m \u001b[39mException\u001b[39;00m:\n\u001b[0;32m   1297\u001b[0m     \u001b[39mself\u001b[39m\u001b[39m.\u001b[39mlog\u001b[39m.\u001b[39mwarning(\u001b[39m\"\u001b[39m\u001b[39mInvalid Message:\u001b[39m\u001b[39m\"\u001b[39m, exc_info\u001b[39m=\u001b[39m\u001b[39mTrue\u001b[39;00m)\n",
      "\u001b[1;31mKeyboardInterrupt\u001b[0m: Interrupted by user"
     ]
    }
   ],
   "source": [
    "'''Your code here'''\n",
    "W, n = map(int, input().split())\n",
    "arr = list(map(int, input().split()))\n",
    "matrix = [[0] * W for _ in range(n+1)]\n",
    "for i in range(1, n+1):\n",
    "    for j in range(1, W):\n",
    "        current_weight = arr[i-1]\n",
    "        cost_without = matrix[i-1][j]\n",
    "        cost_with = -1\n",
    "        if j - current_weight > -1:\n",
    "            cost_with = arr[i-1] + matrix[i-1][j-current_weight]\n",
    "        matrix[i][j] = max(cost_with, cost_without)\n",
    "\n",
    "print(matrix)\n"
   ]
  },
  {
   "cell_type": "code",
   "execution_count": null,
   "metadata": {},
   "outputs": [],
   "source": []
  }
 ],
 "metadata": {
  "kernelspec": {
   "display_name": "Python 3",
   "language": "python",
   "name": "python3"
  },
  "language_info": {
   "codemirror_mode": {
    "name": "ipython",
    "version": 3
   },
   "file_extension": ".py",
   "mimetype": "text/x-python",
   "name": "python",
   "nbconvert_exporter": "python",
   "pygments_lexer": "ipython3",
   "version": "3.12.0"
  },
  "orig_nbformat": 4
 },
 "nbformat": 4,
 "nbformat_minor": 2
}
