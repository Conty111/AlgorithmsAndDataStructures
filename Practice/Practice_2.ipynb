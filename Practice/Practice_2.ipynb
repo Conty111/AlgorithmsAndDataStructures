{
 "cells": [
  {
   "cell_type": "code",
   "execution_count": 1,
   "metadata": {},
   "outputs": [],
   "source": [
    "import random"
   ]
  },
  {
   "cell_type": "markdown",
   "metadata": {},
   "source": [
    "# Возведение в степень по модулю"
   ]
  },
  {
   "cell_type": "markdown",
   "metadata": {},
   "source": [
    "$A^B mod C = ( (A mod C)^B ) mod C$"
   ]
  },
  {
   "cell_type": "code",
   "execution_count": 2,
   "metadata": {},
   "outputs": [
    {
     "data": {
      "text/plain": [
       "621"
      ]
     },
     "execution_count": 2,
     "metadata": {},
     "output_type": "execute_result"
    }
   ],
   "source": [
    "def power_modulus(a, b, c):\n",
    "    return ((a%c)**b)%c\n",
    "\n",
    "    \n",
    "power_modulus(21, 691, 720)"
   ]
  },
  {
   "cell_type": "markdown",
   "metadata": {},
   "source": [
    "# Алгоритм Эвклида"
   ]
  },
  {
   "cell_type": "markdown",
   "metadata": {},
   "source": [
    "Даны два целых положительных числа m и n. Требуется найти их наибольший общий делитель, т. е. наибольшее целое положительное число, которое нацело делит оба числа m и n.\n",
    "1. [Нахождение остатка.] Разделим m на n, и пусть остаток от деления будет равен r (где 0 ≤ r < n).\n",
    "2. [Сравнение с нулем.] Если r = 0, то выполнение алгоритма прекращается; n — искомое значение.\n",
    "3. [Замещение.] Присвоить m ← n, n ← r и вернуться к шагу E1."
   ]
  },
  {
   "cell_type": "code",
   "execution_count": 5,
   "metadata": {},
   "outputs": [
    {
     "data": {
      "text/plain": [
       "5"
      ]
     },
     "execution_count": 5,
     "metadata": {},
     "output_type": "execute_result"
    }
   ],
   "source": [
    "def euclidus(n, m):\n",
    "    r = m % n\n",
    "    m //= n\n",
    "    while r != 0:\n",
    "        m, n = n, r\n",
    "        r = m % n\n",
    "        m //= n\n",
    "    return n\n",
    "\n",
    "euclidus(15, 25)"
   ]
  },
  {
   "cell_type": "markdown",
   "metadata": {},
   "source": [
    "# Расширенный алгоритм Эвклида"
   ]
  },
  {
   "cell_type": "markdown",
   "metadata": {},
   "source": [
    "$x_1, y_1$ получаем на шаге $(b \\% a, a)$\n",
    "\n",
    "$ x=y_1 - floor(b / a) * x_1 \\\\\n",
    "y = x_1  $"
   ]
  },
  {
   "cell_type": "code",
   "execution_count": 10,
   "metadata": {},
   "outputs": [
    {
     "ename": "KeyboardInterrupt",
     "evalue": "",
     "output_type": "error",
     "traceback": [
      "\u001b[1;31m---------------------------------------------------------------------------\u001b[0m",
      "\u001b[1;31mKeyboardInterrupt\u001b[0m                         Traceback (most recent call last)",
      "\u001b[1;32mc:\\Users\\Dima\\Desktop\\Repositories\\Algorithms_and_Data_Structures_Course\\Practice\\Practice_2.ipynb Cell 10\u001b[0m line \u001b[0;36m1\n\u001b[0;32m      <a href='vscode-notebook-cell:/c%3A/Users/Dima/Desktop/Repositories/Algorithms_and_Data_Structures_Course/Practice/Practice_2.ipynb#X12sZmlsZQ%3D%3D?line=7'>8</a>\u001b[0m         y1 \u001b[39m=\u001b[39m a\n\u001b[0;32m      <a href='vscode-notebook-cell:/c%3A/Users/Dima/Desktop/Repositories/Algorithms_and_Data_Structures_Course/Practice/Practice_2.ipynb#X12sZmlsZQ%3D%3D?line=8'>9</a>\u001b[0m     \u001b[39mreturn\u001b[39;00m x, y\n\u001b[1;32m---> <a href='vscode-notebook-cell:/c%3A/Users/Dima/Desktop/Repositories/Algorithms_and_Data_Structures_Course/Practice/Practice_2.ipynb#X12sZmlsZQ%3D%3D?line=10'>11</a>\u001b[0m extended_euclidus(\u001b[39m15\u001b[39;49m, \u001b[39m40\u001b[39;49m)\n",
      "\u001b[1;32mc:\\Users\\Dima\\Desktop\\Repositories\\Algorithms_and_Data_Structures_Course\\Practice\\Practice_2.ipynb Cell 10\u001b[0m line \u001b[0;36m4\n\u001b[0;32m      <a href='vscode-notebook-cell:/c%3A/Users/Dima/Desktop/Repositories/Algorithms_and_Data_Structures_Course/Practice/Practice_2.ipynb#X12sZmlsZQ%3D%3D?line=1'>2</a>\u001b[0m x1 \u001b[39m=\u001b[39m b\u001b[39m%\u001b[39ma\n\u001b[0;32m      <a href='vscode-notebook-cell:/c%3A/Users/Dima/Desktop/Repositories/Algorithms_and_Data_Structures_Course/Practice/Practice_2.ipynb#X12sZmlsZQ%3D%3D?line=2'>3</a>\u001b[0m y1 \u001b[39m=\u001b[39m a\n\u001b[1;32m----> <a href='vscode-notebook-cell:/c%3A/Users/Dima/Desktop/Repositories/Algorithms_and_Data_Structures_Course/Practice/Practice_2.ipynb#X12sZmlsZQ%3D%3D?line=3'>4</a>\u001b[0m \u001b[39mwhile\u001b[39;00m y1 \u001b[39m!=\u001b[39m \u001b[39m0\u001b[39m:\n\u001b[0;32m      <a href='vscode-notebook-cell:/c%3A/Users/Dima/Desktop/Repositories/Algorithms_and_Data_Structures_Course/Practice/Practice_2.ipynb#X12sZmlsZQ%3D%3D?line=4'>5</a>\u001b[0m     x \u001b[39m=\u001b[39m y1 \u001b[39m-\u001b[39m (b\u001b[39m/\u001b[39m\u001b[39m/\u001b[39ma)\u001b[39m*\u001b[39mx1\n\u001b[0;32m      <a href='vscode-notebook-cell:/c%3A/Users/Dima/Desktop/Repositories/Algorithms_and_Data_Structures_Course/Practice/Practice_2.ipynb#X12sZmlsZQ%3D%3D?line=5'>6</a>\u001b[0m     y \u001b[39m=\u001b[39m x1\n",
      "\u001b[1;31mKeyboardInterrupt\u001b[0m: "
     ]
    }
   ],
   "source": [
    "def extended_euclidus(a, b):\n",
    "    x1 = b%a\n",
    "    y1 = a\n",
    "    while y1 != 0:\n",
    "        x = y1 - (b//a)*x1\n",
    "        y = x1\n",
    "        x1 = b%a\n",
    "        y1 = a\n",
    "    return x, y\n",
    "\n",
    "extended_euclidus(15, 40)"
   ]
  },
  {
   "cell_type": "markdown",
   "metadata": {},
   "source": [
    "# Проверка числа на простоту"
   ]
  },
  {
   "cell_type": "code",
   "execution_count": null,
   "metadata": {},
   "outputs": [],
   "source": [
    "def isPrime(n):\n",
    "    \n",
    "    return True"
   ]
  },
  {
   "cell_type": "markdown",
   "metadata": {},
   "source": [
    "# Решето Эратосфена\n",
    "\n",
    "Решето Эратосфена — алгоритм нахождения всех простых чисел, не превышающих некоторое натуральное число n.\n",
    "1. Выписать подряд все целые числа от двух до n (2, 3, 4, …, n).\n",
    "2. Пусть переменная p изначально равна двум — первому простому числу.\n",
    "3. Зачеркнуть в списке числа от 2p до n, считая шагами по p (это будут числа, кратные p: 2p, 3p, 4p, …).\n",
    "4. Найти первое незачёркнутое число в списке, большее чем p, и присвоить значению переменной p это число.\n",
    "5. Повторять шаги 3 и 4, пока возможно."
   ]
  },
  {
   "cell_type": "code",
   "execution_count": null,
   "metadata": {},
   "outputs": [],
   "source": [
    "def eratosthenes(n):\n",
    "    ...\n",
    "\n",
    "print(eratosthenes(100))"
   ]
  },
  {
   "cell_type": "markdown",
   "metadata": {},
   "source": [
    "# Генерация случайных простых чисел\n",
    "\n",
    "1. Строим решето Эратосфена до $k$, где $k$ это некая константа - например $10^3$. Выбираем стартовое простое число $s$ - либо принимаем аргументом, либо из построенного решета. Переходим к шагу 2.\n",
    "2. Имеем простое число $s$ - если $s>N$, то результат алгоритма это $p: p=s$, иначе мы хотим найти простое число $n:n>s$ - переходим к шагу 3.\n",
    "3. Выбираем рандомно чётное число $r : s <= r <= 2 * (2 * s + 1)$ и запишем кандидат на простоту $n=s*r+1$. Переходим к шагу 4.\n",
    "4. Проверяем $n$ на делимость с простыми числами низкого порядка, полученными на шаге 1 - если число делится на одно из них, то оно составное и возвращаемся к выбору нового кандидата $n$, то есть шагу 2. Иначе число может быть простым, поэтому переходим к шагу 5.\n",
    "5. Выбираем рандомно число $a:1<a<n$ и проверяем для нашего кандидата на простоту $n$ исполнимость следующих двух условий $a^{n-1} ≡ 1 (mod n)$ и $НОД(a^r - 1, n) == 1$.\n",
    "    1. Если оба исполняются, то по критерию Поклингтона число $n$ простое - заменяем $s := n$ и переходим к следующей итерации по поиску большего числа, то есть шагу 2.\n",
    "    2. Иначе если не исполняется первое условие - $a^{n-1} ≡ 1 (mod n)$, то по малой теореме Ферма число $n$ не является простым, поэтому переходим к выбору нового кандидата, то есть шагу 3.\n",
    "    3. Иначе если не исполняется вторая часть, то анализ немного сложнее - мы нашли делитель $d:1<d<=n$ для кандидата $n$, поскольку $gcd(a^r-1,n)==d$. Предположим, что $d ≠n$, что подразумевает не примитивный делитель, а значит $n$ не простое - переходим к повторному выбору, то есть шагу 3.\n",
    "    4. Остаётся случай, когда $d==n$, что означает $a^r ≡ 1 (mod n)$, а решений этого выражения существует не больше $r$. Одно из решений это $a==1$, поэтому на интервале $1<a<n$ существует не более $r-1$ решений, следовательно при действительно простом $n$ мы найдём (с вероятностью $1-O(s^{-1})$) такое $a$, которое бы удовлетворяло критерию Поклингтона, поэтому переходим к шагу 5 для повтора выбора a.\n",
    "\n"
   ]
  },
  {
   "cell_type": "code",
   "execution_count": null,
   "metadata": {},
   "outputs": [],
   "source": [
    "# random.seed(42)\n",
    "\n",
    "def random_prime(k, N):\n",
    "    \n",
    "\n",
    "# random_prime(10**3, 1000000)"
   ]
  },
  {
   "cell_type": "code",
   "execution_count": null,
   "metadata": {},
   "outputs": [],
   "source": [
    "# p = eratosthenes(1591621+1)"
   ]
  },
  {
   "cell_type": "markdown",
   "metadata": {},
   "source": [
    "# RSA"
   ]
  },
  {
   "cell_type": "markdown",
   "metadata": {},
   "source": [
    "## Генерация ключей\n",
    "\n",
    "1. Выбираем два случайных простых числа p и q\n",
    "2. Вычисляем их произведение: $ N = p * q $\n",
    "3. Вычисляем функцию Эйлера: $ \\phi(N) = (p-1) * (q-1) $ \n",
    "4. Выбираем число e (обычно простое, но необязательно), которое меньше $\\phi(N)$ и является взаимно простым с $\\phi(N)$ (не имеющих общих делителей друг с другом, кроме 1).\n",
    "5. Ищем число d, обратное числу e по модулю $\\phi(N)$ .Т.е. остаток от деления $(d*e)$ и $\\phi(N)$ должен быть равен 1. Найти его можно через расширенный алгоритм Евклида.\n",
    "\n",
    "e и n – открытый ключ\n",
    "d и n – закрытый ключ\n"
   ]
  },
  {
   "cell_type": "code",
   "execution_count": null,
   "metadata": {},
   "outputs": [],
   "source": [
    "def generate_keys():\n",
    "    ...\n",
    "    return (e, N), (d, N)\n",
    "\n",
    "op, cl = generate_keys()"
   ]
  },
  {
   "cell_type": "code",
   "execution_count": null,
   "metadata": {},
   "outputs": [],
   "source": [
    "print(op, cl)"
   ]
  },
  {
   "cell_type": "code",
   "execution_count": null,
   "metadata": {},
   "outputs": [],
   "source": [
    "power_modulus(21, op[0], op[1])"
   ]
  },
  {
   "cell_type": "code",
   "execution_count": null,
   "metadata": {},
   "outputs": [],
   "source": [
    "power_modulus(59595, cl[0], cl[1])"
   ]
  }
 ],
 "metadata": {
  "kernelspec": {
   "display_name": "Python 3",
   "language": "python",
   "name": "python3"
  },
  "language_info": {
   "codemirror_mode": {
    "name": "ipython",
    "version": 3
   },
   "file_extension": ".py",
   "mimetype": "text/x-python",
   "name": "python",
   "nbconvert_exporter": "python",
   "pygments_lexer": "ipython3",
   "version": "3.12.0"
  },
  "orig_nbformat": 4
 },
 "nbformat": 4,
 "nbformat_minor": 2
}
